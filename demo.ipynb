{
 "cells": [
  {
   "cell_type": "markdown",
   "id": "da7f2e52-ed01-4d6e-8753-31f2f2faf2b6",
   "metadata": {},
   "source": [
    "### **TextLayer Data Guru: A Natural Language Querying Agent**\n",
    "\n",
    "This outlines and demos \"TextLayer Data Guru,\" a natural language querying agent using the powerful o3-mini CoT reasoning model for SQL generation. This agent is designed to facilitate speedy data interaction by converting natural language inputs into structured queries particular DuckDB SQL.\n",
    "\n",
    "---\n",
    "\n",
    "### **Design Considerations**\n",
    "\n",
    "When developing an agent for information retrieval and summarization, several factors are typically considered:\n",
    "\n",
    "*   **Information Accuracy:** Accuracy and precision and recall in information retrieval are important for reliable results.\n",
    "*   **Speed:** The responsiveness of the agent contributes to user experience.\n",
    "*   **Ease-of-Use:** Simplification of data access through natural language is a primary objective.\n",
    "*   **Scalability:** The ability to handle varying loads and data volumes is a design consideration.\n",
    "\n",
    "---\n",
    "\n",
    "### **Application Architecture**\n",
    "\n",
    "The \"TextLayer Data Guru\" application is implemented using the **Flask** framework. It utilizes a threaded executor for managing REST API calls. This approach is functional for a service that does not involve intensive CPU computation. It is noted that standard WSGI servers (e.g., Uvicorn, Gunicorn) are generally employed for horizontal scaling in production environments, which are not used in this specific setup.\n",
    "\n",
    "---\n",
    "\n",
    "### **Agent Design Overview**\n",
    "\n",
    "The agent's core functionality relies on a carefully selected Language Model and a defined operational structure:\n",
    "\n",
    "1.  **Router agent** The router agent was chosen to be gpt-4o and the system prompts for it were left untouched\n",
    "\n",
    "2.  **Core Language Model for text-to-sql tool:** The agent's central component is a **o3-mini** based tool for text-to-sql generation, a fast Chain-of-Thought (CoT) reasoning model. This model has demonstrated effective performance in generating accurate SQL queries. As well as processing multi-step conversations and routing to tools. o3-mini genearlly outperforms gpt-4o-mini and gpt-4o on a variety of logical reasoning, code generation and complex instruction following tasks.\n",
    "\n",
    "3.  **Tool Operating Modes:** The tool provides some extra modes for robust user input processing:\n",
    "    *   **SQL Query Conversion:** Converts relevant natural language inputs into SQL queries.\n",
    "    *   **Clarification Seeking:** Engages in clarifying questions when user input is ambiguous.\n",
    "    *   **Irrelevant Input Refusal:** Identifies and declines inputs that are not relevant to database queries.\n",
    "\n",
    "5.  **Database Context and SQL Syntax Context:** The tool is provided with a **complete database schema and example rows with non-null data entries**. This context aids in generating accurate SQL queries and allows for basic inquiries about database structure, such as tables and columns. Additonally a set of valid DuckDB/postgres SQL datetime commands were added to the system prompt to allow the agent ot use the correct SQL tools to process datetime operations and special instructions for ignoring null or onvalid fields in aggregate operations were added.\n",
    "\n",
    "6.  **System Prompt Structure:** The LLM's system prompt is general yet includes specific instructions for handling ambiguous and irrelevant inputs. This design allows for flexibility and potential modification for incorporating additional tools.\n",
    "\n",
    "\n",
    "---\n",
    "\n",
    "### **RAG Augmentation for Few-Shot Example Injection**\n",
    "\n",
    "To enhance the agent's ability to handle specific or niche user query patterns, a **Retrieval-Augmented Generation (RAG)** component is integrated into the tool:\n",
    "\n",
    "1.  **Vector Store Index:** A simple llamaindex vector store index is used to store `key:value` pairs.\n",
    "2.  **CSV Format for Examples:** The `key:value` pairs are stored in a CSV format, where `user_query` serves as the vectorized search key, and `sql_query` and `description` are the associated values.\n",
    "\n",
    "    *   **Example 1:**\n",
    "        ```csv\n",
    "        user_query,sql_query,description\n",
    "        tell me about Inez Santos,\"(select * from customer where 'Inez Santos' in (Salesperson) limit 5) union all (select * from customer where 'Inez Santos' in (\"\"Sales Manager\"\") limit 5)\",\"Inez Santos appears to be the name of a person, print a summary of columns and rows limit 5 from tables that likely contain persons/names of people\"\n",
    "        ```\n",
    "    *   **Example 2:**\n",
    "        ```csv\n",
    "        user_query,sql_query,description\n",
    "        what products are there,select distinct name from product,\"The user is asking broad about products, the best response is to generate a SQL query listing distinct products in the products table, assume that product.name contains the name of the products\"\n",
    "        ```\n",
    "\n",
    "3.  **Few-Shot Example Injection:** The RAG system's purpose is to inject these few-shot examples into the agent's system prompt. This process is intended to improve the agent's performance for certain Business Intelligence (BI) and analytics-related user inputs.\n",
    "\n",
    "---\n",
    "\n",
    "### **Security Considerations**\n",
    "\n",
    "Security measures are incorporated into the system's design:\n",
    "\n",
    "1.  **Read-Only Database Connection:** The database connection is configured for read-only access. An explicit instruction preventing write operations is also included in the system prompt for the LLM.\n",
    "2.  **Future Access Controls:** For production environments, the implementation of additional user-based access controls is identified as a potential area for further development.\n",
    "\n",
    "---\n",
    "\n",
    "### **Summary of File Modifications**\n",
    "\n",
    "1. defined O3_MINI_MODEL in config since it is in the list of available models\n",
    "2. /app/services/rag/ contains generate_rag_index.py which generates a vecor store index from the local CSV of few shot examples in /rag/data and rag_inference.py exposes a vvector inde retreiver for the agent to use\n",
    "4. text_to_sql.py - modified tool to do o3-mini call and LLM results summary\n",
    "5. /app/utils/duckdb_utils.py was created to host offline SQL and ETL operations that generate CSVs for DB schema and table data examples\n",
    "6. /app/services/datastore/duckdb_datastore.py was modified to set read_only = True for the connector\n",
    "7. requirements.txt - llama-index==0.13.0 was added\n",
    "8. entire project was reformatted with black\n",
    "9. various local CSV files were generated to give more database context to the agent"
   ]
  },
  {
   "cell_type": "markdown",
   "id": "898914f3-91c9-4c2a-8bf5-3abb114989e2",
   "metadata": {},
   "source": [
    "### **Test Cases**\n",
    "1. A non-exhuastive set of basic chat based test cases are presented below"
   ]
  },
  {
   "cell_type": "code",
   "execution_count": 149,
   "id": "e0d9f58d3e06699c",
   "metadata": {
    "ExecuteTime": {
     "end_time": "2025-08-08T06:35:05.812438Z",
     "start_time": "2025-08-08T06:35:05.810355Z"
    }
   },
   "outputs": [],
   "source": [
    "import requests\n",
    "from time import time\n",
    "import json\n",
    "from IPython.display import Markdown, display"
   ]
  },
  {
   "cell_type": "code",
   "execution_count": 159,
   "id": "63b3fb2a2d31d122",
   "metadata": {
    "ExecuteTime": {
     "end_time": "2025-08-08T06:35:20.244106Z",
     "start_time": "2025-08-08T06:35:20.236706Z"
    }
   },
   "outputs": [],
   "source": [
    "def query_textlayer_guru(url: str, user_content: str) -> dict | None:\n",
    "    \"\"\"\n",
    "    Sends a natural language query to the TextLayer Data Guru API.\n",
    "\n",
    "    Args:\n",
    "        url (str): The URL of the TextLayer Data Guru API endpoint (e.g., \"http://127.0.0.1:5000/v1/threads/chat\").\n",
    "        user_content (str): The natural language query string (e.g., \"describe the available tables\").\n",
    "\n",
    "    Returns:\n",
    "        dict | None: A dictionary containing the JSON response if successful, otherwise None.\n",
    "    \"\"\"\n",
    "    payload = {\n",
    "        \"messages\": [\n",
    "            {\n",
    "                \"role\": \"user\",\n",
    "                \"content\": user_content\n",
    "            }\n",
    "        ]\n",
    "    }\n",
    "\n",
    "    try:\n",
    "        start = time()\n",
    "        response = requests.post(url, json=payload)\n",
    "        response.raise_for_status() # Raise an HTTPError for bad responses (4xx or 5xx)\n",
    "        print(\"response took\", time()-start, \"s\")\n",
    "        return response.json()\n",
    "\n",
    "    except requests.exceptions.HTTPError as errh:\n",
    "        print(f\"Http Error: {errh} - Response: {getattr(errh.response, 'text', 'No response text')}\")\n",
    "        return None\n",
    "    except requests.exceptions.ConnectionError as errc:\n",
    "        print(f\"Error Connecting: {errc}\")\n",
    "        return None\n",
    "    except requests.exceptions.Timeout as errt:\n",
    "        print(f\"Timeout Error: {errt}\")\n",
    "        return None\n",
    "    except requests.exceptions.RequestException as err:\n",
    "        print(f\"An unexpected error occurred: {err}\")\n",
    "        return None\n",
    "    except json.JSONDecodeError:\n",
    "        print(f\"Failed to decode JSON from response: {response.text}\")\n",
    "        return None\n",
    "\n",
    "api_url = \"http://127.0.0.1:5000/v1/threads/chat\"\n",
    "\n",
    "def get_and_print_response(query):\n",
    "    print(f\"--- Querying: {query} ---\")\n",
    "    response_data = query_textlayer_guru(api_url, query)\n",
    "\n",
    "    if response_data and \"payload\" in response_data and isinstance(response_data[\"payload\"], list):\n",
    "        for item in response_data[\"payload\"]:\n",
    "            if \"content\" in item:\n",
    "                if item[\"content\"]:\n",
    "                    display(Markdown(item[\"content\"].lstrip(\"\\\"\").rstrip(\"\\\"\").replace(\"\\\\n\", \"\\n\")))\n",
    "    elif response_data:\n",
    "        print(\"Response JSON did not contain a valid 'payload' field.\")\n",
    "        print(json.dumps(response_data, indent=2))\n",
    "    else:\n",
    "        print(f\"Failed to get a response for {query}\")\n"
   ]
  },
  {
   "cell_type": "code",
   "execution_count": 211,
   "id": "3b7bfdbd71f57cfa",
   "metadata": {
    "ExecuteTime": {
     "end_time": "2025-08-08T06:35:27.149723Z",
     "start_time": "2025-08-08T06:35:21.973804Z"
    }
   },
   "outputs": [
    {
     "name": "stdout",
     "output_type": "stream",
     "text": [
      "--- Querying: describe the available tables ---\n",
      "response took 6.845021724700928 s\n"
     ]
    },
    {
     "data": {
      "text/markdown": [
       "describe the available tables"
      ],
      "text/plain": [
       "<IPython.core.display.Markdown object>"
      ]
     },
     "metadata": {},
     "output_type": "display_data"
    },
    {
     "data": {
      "text/markdown": [
       "| name             |\n",
       "|:-----------------|\n",
       "| account          |\n",
       "| customer         |\n",
       "| other            |\n",
       "| product          |\n",
       "| time             |\n",
       "| time_perspective |\n",
       "| version          |\n",
       "\n",
       "__The available tables are: account, customer, other, product, time, time_perspective, and version.__"
      ],
      "text/plain": [
       "<IPython.core.display.Markdown object>"
      ]
     },
     "metadata": {},
     "output_type": "display_data"
    }
   ],
   "source": [
    "# demo 1, asking a general question about the database\n",
    "get_and_print_response(\"describe the available tables\")"
   ]
  },
  {
   "cell_type": "code",
   "execution_count": 212,
   "id": "initial_id",
   "metadata": {
    "ExecuteTime": {
     "end_time": "2025-08-08T06:33:35.244815Z",
     "start_time": "2025-08-08T06:33:29.291740Z"
    }
   },
   "outputs": [
    {
     "name": "stdout",
     "output_type": "stream",
     "text": [
      "--- Querying: show me 5 top rows from customers ---\n",
      "response took 8.941876649856567 s\n"
     ]
    },
    {
     "data": {
      "text/markdown": [
       "show me 5 top rows from customers"
      ],
      "text/plain": [
       "<IPython.core.display.Markdown object>"
      ]
     },
     "metadata": {},
     "output_type": "display_data"
    },
    {
     "data": {
      "text/markdown": [
       "| Key   | ParentId   | Name         | Channel   | Channel Parent   | Customer Since   | Industry   | Location   | Sales Manager   | Salesperson   |\n",
       "|:------|:-----------|:-------------|:----------|:-----------------|:-----------------|:-----------|:-----------|:----------------|:--------------|\n",
       "| C0000 |            | Total Region |           |                  |                  |            |            |                 |               |\n",
       "| C1000 | C0000      | West         |           |                  |                  |            |            |                 |               |\n",
       "| C2000 | C0000      | Midwest      |           |                  |                  |            |            |                 |               |\n",
       "| C3000 | C0000      | Southeast    |           |                  |                  |            |            |                 |               |\n",
       "| C4000 | C0000      | Southwest    |           |                  |                  |            |            |                 |               |\n",
       "\n",
       "__The first five entries in the customers table display the hierarchical structure of regions, with \\\"Total Region\\\" at the top and \\\"West,\\\" \\\"Midwest,\\\" \\\"Southeast,\\\" and \\\"Southwest\\\" as sub-regions. No additional customer-specific data is provided in the output.__"
      ],
      "text/plain": [
       "<IPython.core.display.Markdown object>"
      ]
     },
     "metadata": {},
     "output_type": "display_data"
    }
   ],
   "source": [
    "# demo 2, asking to show a summary about customers\n",
    "get_and_print_response(\"show me 5 top rows from customers\")"
   ]
  },
  {
   "cell_type": "code",
   "execution_count": 213,
   "id": "6d90bda9662c8a34",
   "metadata": {
    "ExecuteTime": {
     "end_time": "2025-08-08T06:29:36.522785Z",
     "start_time": "2025-08-08T06:29:31.548899Z"
    }
   },
   "outputs": [
    {
     "name": "stdout",
     "output_type": "stream",
     "text": [
      "--- Querying: which salesperson had the most customer accounts ---\n",
      "response took 8.461036443710327 s\n"
     ]
    },
    {
     "data": {
      "text/markdown": [
       "which salesperson had the most customer accounts"
      ],
      "text/plain": [
       "<IPython.core.display.Markdown object>"
      ]
     },
     "metadata": {},
     "output_type": "display_data"
    },
    {
     "data": {
      "text/markdown": [
       "| Salesperson    |   account_count |\n",
       "|:---------------|----------------:|\n",
       "| Clarita Kiefer |            1398 |\n",
       "\n",
       "__The salesperson with the most customer accounts is Clarita Kiefer, with 1398 accounts.__"
      ],
      "text/plain": [
       "<IPython.core.display.Markdown object>"
      ]
     },
     "metadata": {},
     "output_type": "display_data"
    }
   ],
   "source": [
    "get_and_print_response(\"which salesperson had the most customer accounts\")"
   ]
  },
  {
   "cell_type": "code",
   "execution_count": 214,
   "id": "921c8d1f6112f8aa",
   "metadata": {
    "ExecuteTime": {
     "end_time": "2025-08-08T06:25:32.691706Z",
     "start_time": "2025-08-08T06:24:20.738754Z"
    }
   },
   "outputs": [
    {
     "name": "stdout",
     "output_type": "stream",
     "text": [
      "--- Querying: tell me about Christa Peters ---\n",
      "response took 16.882885932922363 s\n"
     ]
    },
    {
     "data": {
      "text/markdown": [
       "tell me about Christa Peters"
      ],
      "text/plain": [
       "<IPython.core.display.Markdown object>"
      ]
     },
     "metadata": {},
     "output_type": "display_data"
    },
    {
     "data": {
      "text/markdown": [
       "| Key     | ParentId   | Name                         | Channel       | Channel Parent   | Customer Since   | Industry     | Location   | Sales Manager   | Salesperson    |\n",
       "|:--------|:-----------|:-----------------------------|:--------------|:-----------------|:-----------------|:-------------|:-----------|:----------------|:---------------|\n",
       "| C000018 | C5000      | Cleantech North              | Wholesale     | Total Channel    | 5/25/2017        | Technology   | CA-ON      | Jim Halpert     | Christa Peters |\n",
       "| C000033 | C1000      | Pioneering Planning Holdings | Wholesale     | Total Channel    | 3/16/2014        | Construction | US-FL      | Saul Goodman    | Christa Peters |\n",
       "| C000040 | C1000      | Stellar Frameworks Network   | Distributor   | Total Channel    | 9/7/2015         | Technology   | GB         | Jim Halpert     | Christa Peters |\n",
       "| C000044 | C1000      | Profound Tech Development    | Private Label | Total Channel    | 10/28/2011       | Retail       | US-NY      | Don Draper      | Christa Peters |\n",
       "| C000115 | C1000      | Optimized Labs Corporation   | Retail        | Total Channel    | 6/22/2018        | Retail       | DE         | Don Draper      | Christa Peters |\n",
       "\n",
       "__Christa Peters is associated with multiple companies across various industries such as Technology, Construction, and Retail. She works with sales managers Jim Halpert, Saul Goodman, and Don Draper, and is associated with channels like Wholesale, Distributor, Private Label, and Retail.__"
      ],
      "text/plain": [
       "<IPython.core.display.Markdown object>"
      ]
     },
     "metadata": {},
     "output_type": "display_data"
    }
   ],
   "source": [
    "# a general query concerning a salesperson or possible a sales manager\n",
    "get_and_print_response(\"tell me about Christa Peters\")"
   ]
  },
  {
   "cell_type": "code",
   "execution_count": 215,
   "id": "1865b5e6-3ced-4725-af37-f14e05cf2bdc",
   "metadata": {},
   "outputs": [
    {
     "name": "stdout",
     "output_type": "stream",
     "text": [
      "--- Querying: who had more customer accounts Christa Peters or Saul Goodman ---\n",
      "response took 22.127484798431396 s\n"
     ]
    },
    {
     "data": {
      "text/markdown": [
       "who had more customer accounts Christa Peters or Saul Goodman"
      ],
      "text/plain": [
       "<IPython.core.display.Markdown object>"
      ]
     },
     "metadata": {},
     "output_type": "display_data"
    },
    {
     "data": {
      "text/markdown": [
       "|   count_star() |\n",
       "|---------------:|\n",
       "|        1336.00 |\n",
       "\n",
       "__Christa Peters holds 1,336 customer accounts.__"
      ],
      "text/plain": [
       "<IPython.core.display.Markdown object>"
      ]
     },
     "metadata": {},
     "output_type": "display_data"
    },
    {
     "data": {
      "text/markdown": [
       "|   count_star() |\n",
       "|---------------:|\n",
       "|        6500.00 |\n",
       "\n",
       "__Saul Goodman holds 6,500 customer accounts.__"
      ],
      "text/plain": [
       "<IPython.core.display.Markdown object>"
      ]
     },
     "metadata": {},
     "output_type": "display_data"
    }
   ],
   "source": [
    "get_and_print_response(\"who had more customer accounts Christa Peters or Saul Goodman\")"
   ]
  },
  {
   "cell_type": "code",
   "execution_count": 216,
   "id": "1783d93e-0ee6-410e-9912-6d1faa9e8d45",
   "metadata": {},
   "outputs": [
    {
     "name": "stdout",
     "output_type": "stream",
     "text": [
      "--- Querying: how many customer accounts did Saul Goodman have as a sales manager ---\n",
      "response took 7.32975435256958 s\n"
     ]
    },
    {
     "data": {
      "text/markdown": [
       "how many customer accounts did Saul Goodman have as a sales manager"
      ],
      "text/plain": [
       "<IPython.core.display.Markdown object>"
      ]
     },
     "metadata": {},
     "output_type": "display_data"
    },
    {
     "data": {
      "text/markdown": [
       "|   customer_count |\n",
       "|-----------------:|\n",
       "|          6500.00 |\n",
       "\n",
       "__Saul Goodman had 6,500 customer accounts as a sales manager.__"
      ],
      "text/plain": [
       "<IPython.core.display.Markdown object>"
      ]
     },
     "metadata": {},
     "output_type": "display_data"
    }
   ],
   "source": [
    "get_and_print_response(\"how many customer accounts did Saul Goodman have as a sales manager\")"
   ]
  },
  {
   "cell_type": "code",
   "execution_count": 229,
   "id": "ff7c3e15-a60a-44d2-ba16-8c3c51f3d39e",
   "metadata": {},
   "outputs": [
    {
     "name": "stdout",
     "output_type": "stream",
     "text": [
      "--- Querying: how many customer accounts did Saul Goodman have as a salesman ---\n",
      "response took 13.83296012878418 s\n"
     ]
    },
    {
     "data": {
      "text/markdown": [
       "how many customer accounts did Saul Goodman have as a salesman"
      ],
      "text/plain": [
       "<IPython.core.display.Markdown object>"
      ]
     },
     "metadata": {},
     "output_type": "display_data"
    },
    {
     "data": {
      "text/markdown": [
       "|   account_count |\n",
       "|----------------:|\n",
       "|         6500.00 |\n",
       "\n",
       "__Saul Goodman had 6,500 customer accounts as a salesman.__"
      ],
      "text/plain": [
       "<IPython.core.display.Markdown object>"
      ]
     },
     "metadata": {},
     "output_type": "display_data"
    }
   ],
   "source": [
    "# a somewhat ambiguous query as Saul is a sales manager and a crooked lawyer\n",
    "get_and_print_response(\"how many customer accounts did Saul Goodman have as a salesman\")"
   ]
  },
  {
   "cell_type": "code",
   "execution_count": 230,
   "id": "f91b0aa2-70fc-4d4e-96ea-378aeec2315e",
   "metadata": {},
   "outputs": [
    {
     "name": "stdout",
     "output_type": "stream",
     "text": [
      "--- Querying: how many customer accounts did Saul Goodman have as a salesman, sales managers do not sell, only manage ---\n",
      "response took 11.582584381103516 s\n"
     ]
    },
    {
     "data": {
      "text/markdown": [
       "how many customer accounts did Saul Goodman have as a salesman, sales managers do not sell, only manage"
      ],
      "text/plain": [
       "<IPython.core.display.Markdown object>"
      ]
     },
     "metadata": {},
     "output_type": "display_data"
    },
    {
     "data": {
      "text/markdown": [
       "|   count_star() |\n",
       "|---------------:|\n",
       "|           0.00 |\n",
       "\n",
       "__Saul Goodman did not have any customer accounts as a salesman. Sales managers only manage and do not sell.__"
      ],
      "text/plain": [
       "<IPython.core.display.Markdown object>"
      ]
     },
     "metadata": {},
     "output_type": "display_data"
    }
   ],
   "source": [
    "# a the above query with a little more clarification\n",
    "get_and_print_response(\"how many customer accounts did Saul Goodman have as a salesman, sales managers do not sell, only manage\")"
   ]
  },
  {
   "cell_type": "code",
   "execution_count": 231,
   "id": "16df2762-fe0b-479c-a4b1-c6532dec0328",
   "metadata": {},
   "outputs": [
    {
     "name": "stdout",
     "output_type": "stream",
     "text": [
      "--- Querying: in what year were the most customers signed on ---\n",
      "response took 11.175101280212402 s\n"
     ]
    },
    {
     "data": {
      "text/markdown": [
       "in what year were the most customers signed on"
      ],
      "text/plain": [
       "<IPython.core.display.Markdown object>"
      ]
     },
     "metadata": {},
     "output_type": "display_data"
    },
    {
     "data": {
      "text/markdown": [
       "|   signup_year |   num_signups |\n",
       "|--------------:|--------------:|\n",
       "|          2011 |          1694 |\n",
       "\n",
       "__The year with the most new customer sign-ups was 2011, with 1,694 sign-ups.__"
      ],
      "text/plain": [
       "<IPython.core.display.Markdown object>"
      ]
     },
     "metadata": {},
     "output_type": "display_data"
    }
   ],
   "source": [
    "# this query requires the agent to know how to parse out year from the year field\n",
    "get_and_print_response(\"in what year were the most customers signed on\")"
   ]
  },
  {
   "cell_type": "code",
   "execution_count": 220,
   "id": "7e8f61c5-a290-484e-a260-e6705cbaf08e",
   "metadata": {},
   "outputs": [
    {
     "name": "stdout",
     "output_type": "stream",
     "text": [
      "--- Querying: give counts of customer signed on per year list by largest ---\n",
      "response took 9.416120052337646 s\n"
     ]
    },
    {
     "data": {
      "text/markdown": [
       "give counts of customer signed on per year list by largest"
      ],
      "text/plain": [
       "<IPython.core.display.Markdown object>"
      ]
     },
     "metadata": {},
     "output_type": "display_data"
    },
    {
     "data": {
      "text/markdown": [
       "|   signup_year |   customer_count |\n",
       "|--------------:|-----------------:|\n",
       "|       2011.00 |          1694.00 |\n",
       "|       2012.00 |          1673.00 |\n",
       "|       2015.00 |          1673.00 |\n",
       "|       2019.00 |          1663.00 |\n",
       "|       2013.00 |          1648.00 |\n",
       "|       2021.00 |          1647.00 |\n",
       "|       2014.00 |          1644.00 |\n",
       "|       2022.00 |          1634.00 |\n",
       "|       2017.00 |          1632.00 |\n",
       "|       2016.00 |          1630.00 |\n",
       "|       2010.00 |          1628.00 |\n",
       "|       2009.00 |          1625.00 |\n",
       "|       2018.00 |          1606.00 |\n",
       "|       2023.00 |          1587.00 |\n",
       "|       2008.00 |          1559.00 |\n",
       "|       2020.00 |          1545.00 |\n",
       "\n",
       "__In the year 2011, the highest number of customers signed up, totaling 1694. The list is ordered by the largest customer count per year.__"
      ],
      "text/plain": [
       "<IPython.core.display.Markdown object>"
      ]
     },
     "metadata": {},
     "output_type": "display_data"
    }
   ],
   "source": [
    "get_and_print_response(\"give counts of customer signed on per year list by largest\")"
   ]
  },
  {
   "cell_type": "code",
   "execution_count": 233,
   "id": "889f1e67-e619-4221-866d-2a3f000d555a",
   "metadata": {},
   "outputs": [
    {
     "name": "stdout",
     "output_type": "stream",
     "text": [
      "--- Querying: give counts of customer signed on per year list by earliest ---\n",
      "response took 12.037032127380371 s\n"
     ]
    },
    {
     "data": {
      "text/markdown": [
       "give counts of customer signed on per year list by earliest"
      ],
      "text/plain": [
       "<IPython.core.display.Markdown object>"
      ]
     },
     "metadata": {},
     "output_type": "display_data"
    },
    {
     "data": {
      "text/markdown": [
       "|   sign_year |   customer_count |\n",
       "|------------:|-----------------:|\n",
       "|     2008.00 |          1559.00 |\n",
       "|     2009.00 |          1625.00 |\n",
       "|     2010.00 |          1628.00 |\n",
       "|     2011.00 |          1694.00 |\n",
       "|     2012.00 |          1673.00 |\n",
       "|     2013.00 |          1648.00 |\n",
       "|     2014.00 |          1644.00 |\n",
       "|     2015.00 |          1673.00 |\n",
       "|     2016.00 |          1630.00 |\n",
       "|     2017.00 |          1632.00 |\n",
       "|     2018.00 |          1606.00 |\n",
       "|     2019.00 |          1663.00 |\n",
       "|     2020.00 |          1545.00 |\n",
       "|     2021.00 |          1647.00 |\n",
       "|     2022.00 |          1634.00 |\n",
       "|     2023.00 |          1587.00 |\n",
       "\n",
       "__The table provides customer counts signed per year from 2008 to 2023, sorted by the earliest year first. The highest customer count was in 2011 with 1,694 customers, and the lowest was in 2020 with 1,545 customers.__"
      ],
      "text/plain": [
       "<IPython.core.display.Markdown object>"
      ]
     },
     "metadata": {},
     "output_type": "display_data"
    }
   ],
   "source": [
    "# need to tell tool to ignore rows with NA, NULL or '' cells in aggregate fields\n",
    "get_and_print_response(\"give counts of customer signed on per year list by earliest\")"
   ]
  },
  {
   "cell_type": "code",
   "execution_count": 234,
   "id": "f9f21975-4f62-46b9-af87-df24182b8045",
   "metadata": {},
   "outputs": [
    {
     "name": "stdout",
     "output_type": "stream",
     "text": [
      "--- Querying: tell me about what products there are, limit to 20 products ---\n",
      "response took 9.673447608947754 s\n"
     ]
    },
    {
     "data": {
      "text/markdown": [
       "tell me about what products there are, limit to 20 products"
      ],
      "text/plain": [
       "<IPython.core.display.Markdown object>"
      ]
     },
     "metadata": {},
     "output_type": "display_data"
    },
    {
     "data": {
      "text/markdown": [
       "| Name        |\n",
       "|:------------|\n",
       "| Product 62  |\n",
       "| Product 64  |\n",
       "| Product 110 |\n",
       "| Product 127 |\n",
       "| Product 136 |\n",
       "| Product 153 |\n",
       "| Product 156 |\n",
       "| Product 161 |\n",
       "| Product 173 |\n",
       "| Product 178 |\n",
       "| Product 218 |\n",
       "| Product 242 |\n",
       "| Product 278 |\n",
       "| Product 301 |\n",
       "| Product 308 |\n",
       "| Product 310 |\n",
       "| Product 316 |\n",
       "| Product 330 |\n",
       "| Product 334 |\n",
       "| Product 336 |\n",
       "\n",
       "__The products available are Product 62, Product 64, Product 110, Product 127, and so on, up to Product 336. The list includes a total of 20 products.__"
      ],
      "text/plain": [
       "<IPython.core.display.Markdown object>"
      ]
     },
     "metadata": {},
     "output_type": "display_data"
    }
   ],
   "source": [
    "get_and_print_response(\"tell me about what products there are, limit to 20 products\")"
   ]
  },
  {
   "cell_type": "code",
   "execution_count": 235,
   "id": "06c584ad-474f-4fa6-9178-e763f4912512",
   "metadata": {},
   "outputs": [
    {
     "name": "stdout",
     "output_type": "stream",
     "text": [
      "--- Querying: whats the weather like in Vancouver ---\n",
      "response took 2.1283481121063232 s\n"
     ]
    },
    {
     "data": {
      "text/markdown": [
       "whats the weather like in Vancouver"
      ],
      "text/plain": [
       "<IPython.core.display.Markdown object>"
      ]
     },
     "metadata": {},
     "output_type": "display_data"
    },
    {
     "data": {
      "text/markdown": [
       "I'm unable to access real-time data, including current weather conditions. However, you can easily check the weather in Vancouver by using a weather website or app such as Weather.com, AccuWeather, or a local news station's website."
      ],
      "text/plain": [
       "<IPython.core.display.Markdown object>"
      ]
     },
     "metadata": {},
     "output_type": "display_data"
    }
   ],
   "source": [
    "get_and_print_response(\"whats the weather like in Vancouver\")"
   ]
  },
  {
   "cell_type": "code",
   "execution_count": 236,
   "id": "3a6fa29f-c93f-4ac1-8ebd-e18d967e13d7",
   "metadata": {},
   "outputs": [],
   "source": [
    "# a query joining two different tables\n",
    "# generated query is SELECT v.Key, v.StartPeriod, t.Name AS MonthName FROM main.version v JOIN main.time t ON SUBSTR(v.StartPeriod, -3) = SUBSTR(t.Month, -3) ORDER BY v.StartPeriod DESC LIMIT 5;"
   ]
  },
  {
   "cell_type": "code",
   "execution_count": 237,
   "id": "1134e7ca-f236-455d-b3a1-eed39a28d6c4",
   "metadata": {},
   "outputs": [
    {
     "name": "stdout",
     "output_type": "stream",
     "text": [
      "--- Querying: list the most recent versions and their monthly start period cross reference month in main.time limit 5 ---\n",
      "response took 14.94752836227417 s\n"
     ]
    },
    {
     "data": {
      "text/markdown": [
       "list the most recent versions and their monthly start period cross reference month in main.time limit 5"
      ],
      "text/plain": [
       "<IPython.core.display.Markdown object>"
      ]
     },
     "metadata": {},
     "output_type": "display_data"
    },
    {
     "data": {
      "text/markdown": [
       "| Key   | Name         | StartPeriod   | Month_Name   |\n",
       "|:------|:-------------|:--------------|:-------------|\n",
       "| Q3FOR | 9+3 Forecast | 2025M10       | October      |\n",
       "| Q3FOR | 9+3 Forecast | 2025M10       | October      |\n",
       "| Q3FOR | 9+3 Forecast | 2025M10       | October      |\n",
       "| Q3FOR | 9+3 Forecast | 2025M10       | October      |\n",
       "| Q3FOR | 9+3 Forecast | 2025M10       | October      |\n",
       "\n",
       "__The most recent version is \\\"9+3 Forecast\\\" with a monthly start period of \\\"2025M10,\\\" corresponding to October. The results include 5 entries of this version and start period.__"
      ],
      "text/plain": [
       "<IPython.core.display.Markdown object>"
      ]
     },
     "metadata": {},
     "output_type": "display_data"
    }
   ],
   "source": [
    "get_and_print_response(\"list the most recent versions and their monthly start period cross reference month in main.time limit 5\")"
   ]
  },
  {
   "cell_type": "markdown",
   "id": "0a097c76-d25d-4742-ad83-4032c1e9343e",
   "metadata": {},
   "source": [
    "### multi turn conversation example"
   ]
  },
  {
   "cell_type": "code",
   "execution_count": 238,
   "id": "6c2b9fff-0899-4788-9815-dd8ad00e4ac4",
   "metadata": {},
   "outputs": [],
   "source": [
    "      \n",
    "import requests\n",
    "import json\n",
    "from IPython.display import Markdown, display\n",
    "\n",
    "api_url = \"http://127.0.0.1:5000/v1/threads/chat\"\n",
    "\n",
    "def query_textlayer_guru_multiturn(url: str, messages: list) -> dict | None:\n",
    "    payload = {\n",
    "        \"messages\": messages\n",
    "    }\n",
    "\n",
    "    try:\n",
    "        start = time()\n",
    "        response = requests.post(url, json=payload)\n",
    "        response.raise_for_status()\n",
    "        print(\"response took\", time()-start, \"s\")\n",
    "\n",
    "        return response.json()\n",
    "\n",
    "    except requests.exceptions.HTTPError as errh:\n",
    "        print(f\"Http Error: {errh} - Response: {getattr(errh.response, 'text', 'No response text')}\")\n",
    "        return None\n",
    "    except requests.exceptions.ConnectionError as errc:\n",
    "        print(f\"Error Connecting: {errc}\")\n",
    "        return None\n",
    "    except requests.exceptions.Timeout as errt:\n",
    "        print(f\"Timeout Error: {errt}\")\n",
    "        return None\n",
    "    except requests.exceptions.RequestException as err:\n",
    "        print(f\"An unexpected error occurred: {err}\")\n",
    "        return None\n",
    "    except json.JSONDecodeError:\n",
    "        response_text = getattr(response, 'text', 'No response text available') if 'response' in locals() else 'No response object'\n",
    "        print(f\"Failed to decode JSON from response: {response_text}\")\n",
    "        return None\n",
    "\n",
    "def get_multiturn_response(current_query: str, history: list = None) -> list:\n",
    "    if history is None:\n",
    "        history = []\n",
    "\n",
    "    user_message = {\"role\": \"user\", \"content\": current_query}\n",
    "    messages_to_send = history + [user_message]\n",
    "\n",
    "    print(f\"--- User Query: {current_query} ---\")\n",
    "    response_data = query_textlayer_guru_multiturn(api_url, messages_to_send)\n",
    "\n",
    "    new_history = []\n",
    "    if response_data and \"payload\" in response_data and isinstance(response_data[\"payload\"], list):\n",
    "        full_conversation_payload = response_data[\"payload\"]\n",
    "\n",
    "        # Filter the full payload to create the new_history for the next turn\n",
    "        for message in full_conversation_payload:\n",
    "            if message[\"content\"]:\n",
    "                # quick fix to make sure tool role is chnaged to assistant role\n",
    "                if  message[\"role\"] == \"tool\":\n",
    "                     message[\"role\"] = \"assistant\"\n",
    "                new_history.append({\"role\": message[\"role\"], \"content\": message[\"content\"]})\n",
    "            # Handle tool messages for display, but don't add them to the conversational history for next turn\n",
    "\n",
    "        print(\"\\n--- Assistant's Response ---\")\n",
    "        # Display only the new messages generated in this turn\n",
    "        # This assumes the payload returns the entire thread, including the sent messages\n",
    "        new_messages_start_index = len(messages_to_send)\n",
    "        for message in full_conversation_payload[new_messages_start_index:]:\n",
    "            if message[\"role\"] == \"assistant\":\n",
    "                if message.get(\"content\") is not None:\n",
    "                    display(Markdown(message[\"content\"].lstrip(\"\\\"\").rstrip(\"\\\"\").replace(\"\\\\n\", \"\\n\")))\n",
    "                if message.get(\"tool_calls\"):\n",
    "                    print(f\"Assistant invoked tools: {json.dumps(message['tool_calls'], indent=2)}\")\n",
    "            elif message[\"role\"] == \"tool\":\n",
    "                if message.get(\"content\") is not None:\n",
    "                    print(f\"--- Tool Output ({message.get('tool_call_id', 'N/A')}): ---\")\n",
    "                    display(Markdown(message[\"content\"].lstrip(\"\\\"\").rstrip(\"\\\"\").replace(\"\\\\n\", \"\\n\")))\n",
    "        \n",
    "        return new_history\n",
    "    elif response_data:\n",
    "        print(\"Response JSON did not contain a valid 'payload' field.\")\n",
    "        print(json.dumps(response_data, indent=2))\n",
    "        return history # Return original history if response is malformed\n",
    "    else:\n",
    "        print(f\"Failed to get a response for {current_query}\")\n",
    "        return history # Return original history on failure\n",
    "\n",
    "    "
   ]
  },
  {
   "cell_type": "code",
   "execution_count": 239,
   "id": "dccbd817-bbed-4f75-b03f-a1a0bbe54aa6",
   "metadata": {},
   "outputs": [
    {
     "name": "stdout",
     "output_type": "stream",
     "text": [
      "--- User Query: how many customers did Saul Goodman have ---\n",
      "response took 9.198768377304077 s\n",
      "\n",
      "--- Assistant's Response ---\n",
      "Assistant invoked tools: [\n",
      "  {\n",
      "    \"function\": {\n",
      "      \"arguments\": \"{\\\"user_query\\\":\\\"how many customers did Saul Goodman have\\\"}\",\n",
      "      \"name\": \"text_to_sql_tool\"\n",
      "    },\n",
      "    \"id\": \"call_HxNQ6xHhBKI7XGWOAZOoeuWR\",\n",
      "    \"type\": \"function\"\n",
      "  }\n",
      "]\n"
     ]
    },
    {
     "data": {
      "text/markdown": [
       "|   customer_count |\n",
       "|-----------------:|\n",
       "|          6500.00 |\n",
       "\n",
       "__Saul Goodman had 6,500 customers.__"
      ],
      "text/plain": [
       "<IPython.core.display.Markdown object>"
      ]
     },
     "metadata": {},
     "output_type": "display_data"
    }
   ],
   "source": [
    "hist = get_multiturn_response(\"how many customers did Saul Goodman have\")"
   ]
  },
  {
   "cell_type": "code",
   "execution_count": 240,
   "id": "8122fcec-43b2-4269-8d80-6521db5e2027",
   "metadata": {},
   "outputs": [
    {
     "name": "stdout",
     "output_type": "stream",
     "text": [
      "[{'role': 'user', 'content': 'how many customers did Saul Goodman have'}, {'role': 'assistant', 'content': '\"|   customer_count |\\\\n|-----------------:|\\\\n|          6500.00 |\\\\n\\\\n__Saul Goodman had 6,500 customers.__\"'}]\n"
     ]
    }
   ],
   "source": [
    "print(hist)"
   ]
  },
  {
   "cell_type": "code",
   "execution_count": 241,
   "id": "51c09c53-db00-4b25-9289-245be17886a9",
   "metadata": {},
   "outputs": [
    {
     "name": "stdout",
     "output_type": "stream",
     "text": [
      "--- User Query: how many customers did Christa Peters have ---\n",
      "response took 9.382657766342163 s\n",
      "\n",
      "--- Assistant's Response ---\n",
      "Assistant invoked tools: [\n",
      "  {\n",
      "    \"function\": {\n",
      "      \"arguments\": \"{\\\"user_query\\\":\\\"how many customers did Christa Peters have\\\"}\",\n",
      "      \"name\": \"text_to_sql_tool\"\n",
      "    },\n",
      "    \"id\": \"call_csCFSD3GCKMCqdNIdfdYszuq\",\n",
      "    \"type\": \"function\"\n",
      "  }\n",
      "]\n"
     ]
    },
    {
     "data": {
      "text/markdown": [
       "|   num_customers |\n",
       "|----------------:|\n",
       "|         1336.00 |\n",
       "\n",
       "__Christa Peters had 1,336 customers.__"
      ],
      "text/plain": [
       "<IPython.core.display.Markdown object>"
      ]
     },
     "metadata": {},
     "output_type": "display_data"
    }
   ],
   "source": [
    "hist = get_multiturn_response(\"how many customers did Christa Peters have\", hist)"
   ]
  },
  {
   "cell_type": "code",
   "execution_count": 242,
   "id": "279cfa4d-cf27-408f-891d-6db38d7e8801",
   "metadata": {},
   "outputs": [
    {
     "name": "stdout",
     "output_type": "stream",
     "text": [
      "--- User Query: from the previous 2 results who had the most customers ---\n",
      "response took 1.5285320281982422 s\n",
      "\n",
      "--- Assistant's Response ---\n"
     ]
    },
    {
     "data": {
      "text/markdown": [
       "Saul Goodman had the most customers, with a total of 6,500 customers, compared to Christa Peters who had 1,336 customers."
      ],
      "text/plain": [
       "<IPython.core.display.Markdown object>"
      ]
     },
     "metadata": {},
     "output_type": "display_data"
    }
   ],
   "source": [
    "hist = get_multiturn_response(\"from the previous 2 results who had the most customers\", hist)"
   ]
  },
  {
   "cell_type": "code",
   "execution_count": 245,
   "id": "36e25e39-0877-46ee-9a7b-6f9b9f9b7088",
   "metadata": {},
   "outputs": [
    {
     "name": "stdout",
     "output_type": "stream",
     "text": [
      "--- User Query: how did Saul Goodman have ---\n",
      "response took 2.006071090698242 s\n",
      "\n",
      "--- Assistant's Response ---\n"
     ]
    },
    {
     "data": {
      "text/markdown": [
       "Could you please clarify what specific information or aspect you are looking to know about Saul Goodman? Are you referring to his character from \"Breaking Bad\" and \"Better Call Saul,\" his professional strategies, his legal practices, or something else entirely?"
      ],
      "text/plain": [
       "<IPython.core.display.Markdown object>"
      ]
     },
     "metadata": {},
     "output_type": "display_data"
    }
   ],
   "source": [
    "# ask ambiguous query, wait for clarifying question\n",
    "hist = get_multiturn_response(\"how did Saul Goodman have\")"
   ]
  },
  {
   "cell_type": "code",
   "execution_count": 246,
   "id": "c85d32fd-0bfa-44e4-864f-81d6e8602463",
   "metadata": {},
   "outputs": [
    {
     "name": "stdout",
     "output_type": "stream",
     "text": [
      "--- User Query: how many customers did he have ---\n",
      "response took 6.985926389694214 s\n",
      "\n",
      "--- Assistant's Response ---\n",
      "Assistant invoked tools: [\n",
      "  {\n",
      "    \"function\": {\n",
      "      \"arguments\": \"{\\\"user_query\\\":\\\"How many customers did Saul Goodman have?\\\"}\",\n",
      "      \"name\": \"text_to_sql_tool\"\n",
      "    },\n",
      "    \"id\": \"call_pq1UJwuuX5oQ51zuq4M5SZ6D\",\n",
      "    \"type\": \"function\"\n",
      "  }\n",
      "]\n"
     ]
    },
    {
     "data": {
      "text/markdown": [
       "|   count_star() |\n",
       "|---------------:|\n",
       "|        6500.00 |\n",
       "\n",
       "__Saul Goodman had 6,500 customers.__"
      ],
      "text/plain": [
       "<IPython.core.display.Markdown object>"
      ]
     },
     "metadata": {},
     "output_type": "display_data"
    }
   ],
   "source": [
    "# provide resolution to above\n",
    "hist = get_multiturn_response(\"how many customers did he have\", hist)"
   ]
  },
  {
   "cell_type": "code",
   "execution_count": 243,
   "id": "57d0e363-e9b1-4c50-ab87-db531851bd19",
   "metadata": {},
   "outputs": [],
   "source": [
    "# and this passes the multi turn conversation test"
   ]
  },
  {
   "cell_type": "markdown",
   "id": "1ed42622-54ab-4cd8-8abf-a5ebe24ce2db",
   "metadata": {},
   "source": [
    "### **Discussion**\n",
    "1. The test suite above demonstrates basic capability with some queries that canbe expected for a simple text-to-sql chat service for BI/analytics. All test cases pass but a more thourough testing suite is needed.\n",
    "2. The agent incoporates data augmentation a two levels, first is database schema and best attempt non-null row example from each table, second is a RAG retriever for few shot text-to-sql examples\n",
    "3. More advanced implementations will need to review business use cases, requirements and analyzed for latency, safety and scalability\n",
    "4. Due to time constraints the functional test coverage is not exhuastive. Functional and end-to-end testing will require large amounts (at least 200+, 1000 - 10000+ is ideal) of ground truth data and automated test suites to compute accuracy curves, and potentially multiple programs of feature testing such as switching out for different LLMs are needed\n",
    "5. More advanced integrations with multiple data sources such as RDS and RAG systems can be considered to augment the capability of the system, eg. multi database querying, retrival of information from sources other than a SQL database etc.\n",
    "\n",
    "### This has been a fun exercise and I am happy to discuss the results!"
   ]
  },
  {
   "cell_type": "code",
   "execution_count": null,
   "id": "14d61b27-e9d8-4585-bb2c-4aca5ded2af3",
   "metadata": {},
   "outputs": [],
   "source": []
  }
 ],
 "metadata": {
  "kernelspec": {
   "display_name": "Python 3 (ipykernel)",
   "language": "python",
   "name": "python3"
  },
  "language_info": {
   "codemirror_mode": {
    "name": "ipython",
    "version": 3
   },
   "file_extension": ".py",
   "mimetype": "text/x-python",
   "name": "python",
   "nbconvert_exporter": "python",
   "pygments_lexer": "ipython3",
   "version": "3.10.12"
  }
 },
 "nbformat": 4,
 "nbformat_minor": 5
}
