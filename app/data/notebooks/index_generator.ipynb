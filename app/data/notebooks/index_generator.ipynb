{
 "cells": [
  {
   "cell_type": "markdown",
   "id": "f8d6e7b5",
   "metadata": {},
   "source": [
    "# ObjectIndex Method (Doesn't Work)\n",
    "- Inconsistency before and after persisting"
   ]
  },
  {
   "cell_type": "code",
   "execution_count": null,
   "id": "bb1d2095",
   "metadata": {},
   "outputs": [],
   "source": [
    "from sqlalchemy import create_engine, text, inspect\n",
    "from llama_index.core import SQLDatabase\n",
    "from llama_index.core.objects import ObjectIndex, SQLTableNodeMapping\n",
    "from llama_index.core.objects import SQLTableSchema\n",
    "from llama_index.core import VectorStoreIndex\n",
    "from llama_index.embeddings.openai import OpenAIEmbedding\n",
    "from llama_index.core.retrievers import SQLRetriever\n",
    "import os\n",
    "# from flask import current_app"
   ]
  },
  {
   "cell_type": "code",
   "execution_count": null,
   "id": "cf59d11c",
   "metadata": {},
   "outputs": [],
   "source": [
    "embedding_model = \"text-embedding-3-small\""
   ]
  },
  {
   "cell_type": "code",
   "execution_count": null,
   "id": "25a26a59",
   "metadata": {},
   "outputs": [],
   "source": [
    "# Path to your DuckDB database file\n",
    "# db_path = os.path.join(\"../duckdb\", \"data.db\")  \n",
    "# Change filename if needed\n",
    "# engine = create_engine(f\"duckdb:///{db_path}\")\n",
    "engine = create_engine(f\"duckdb:///{\"../data.db\"}\")"
   ]
  },
  {
   "cell_type": "code",
   "execution_count": null,
   "id": "faf7f1f1",
   "metadata": {},
   "outputs": [],
   "source": [
    "\n",
    "# Create an inspector object\n",
    "inspector = inspect(engine)\n",
    "table_names = inspector.get_table_names()\n",
    "sql_database = SQLDatabase(engine, include_tables=table_names)\n",
    "table_node_mapping = SQLTableNodeMapping(sql_database)\n",
    "table_schema_objs = []\n",
    "for table in table_names:\n",
    "    # Processing Columns to Include as context_str\n",
    "    columns = inspector.get_columns(table)\n",
    "    column_info = []\n",
    "    for column in columns:\n",
    "        column_info.append(f\"{column['name']} ({column['type']})\")\n",
    "    \n",
    "    # Create context string with table columns\n",
    "    context_str = f\"Table columns: {', '.join(column_info)}\"\n",
    "    \n",
    "    table_schema = SQLTableSchema(\n",
    "        table_name=table,\n",
    "        context_str=context_str\n",
    "        )\n",
    "    table_schema_objs.append(table_schema)\n",
    "# Build the object index\n",
    "obj_index = ObjectIndex.from_objects(\n",
    "    table_schema_objs,\n",
    "    table_node_mapping,\n",
    "    VectorStoreIndex,\n",
    "    embed_model=OpenAIEmbedding(model=embedding_model),\n",
    ")"
   ]
  },
  {
   "cell_type": "code",
   "execution_count": null,
   "id": "e69dd068",
   "metadata": {},
   "outputs": [],
   "source": [
    "table_retriever = obj_index.as_retriever(similarity_top_k=3)"
   ]
  },
  {
   "cell_type": "code",
   "execution_count": null,
   "id": "34ea3cd4",
   "metadata": {},
   "outputs": [],
   "source": [
    "tables_retireved = table_retriever.retrieve(\"How many product lines are there in the database?\")\n",
    "print(tables_retireved)"
   ]
  },
  {
   "cell_type": "code",
   "execution_count": null,
   "id": "a8ee784e",
   "metadata": {},
   "outputs": [],
   "source": [
    "import os\n",
    "persist_dir = \"../index/tables_index\"\n",
    "print(f\"Checking if persist directory exists: {persist_dir}\")\n",
    "print(f\"✅ Directory exists: {os.path.exists(persist_dir)}\")\n",
    "if os.path.exists(persist_dir):\n",
    "    print(f\"✅ Directory contents: {os.listdir(persist_dir)}\")"
   ]
  },
  {
   "cell_type": "code",
   "execution_count": null,
   "id": "a3124c7f",
   "metadata": {},
   "outputs": [],
   "source": [
    "# Save the object index to disk\n",
    "obj_index.persist(\"../index/tables_index\")"
   ]
  },
  {
   "cell_type": "code",
   "execution_count": null,
   "id": "c502fafd",
   "metadata": {},
   "outputs": [],
   "source": [
    "obj_index = ObjectIndex.from_persist_dir(\n",
    "    persist_dir=\"../index/tables_index\", \n",
    "    object_node_mapping=table_node_mapping,\n",
    ")"
   ]
  },
  {
   "cell_type": "code",
   "execution_count": null,
   "id": "e12ebe0b",
   "metadata": {},
   "outputs": [],
   "source": [
    "table_retriever = obj_index.as_retriever(similarity_top_k=3)"
   ]
  },
  {
   "cell_type": "code",
   "execution_count": null,
   "id": "cc646218",
   "metadata": {},
   "outputs": [],
   "source": [
    "tables_retireved = table_retriever.retrieve(\"How many product lines are there in the database?\")\n",
    "print(tables_retireved)"
   ]
  },
  {
   "cell_type": "markdown",
   "id": "587486fa",
   "metadata": {},
   "source": [
    "# VectorStoreIndex Method (Preferred)"
   ]
  },
  {
   "cell_type": "code",
   "execution_count": null,
   "id": "9c009cf6",
   "metadata": {},
   "outputs": [],
   "source": [
    "from sqlalchemy import create_engine, text, inspect\n",
    "from llama_index.core import VectorStoreIndex\n",
    "from llama_index.embeddings.openai import OpenAIEmbedding\n",
    "from llama_index.core import StorageContext, load_index_from_storage\n",
    "import os\n",
    "# from flask import current_app"
   ]
  },
  {
   "cell_type": "code",
   "execution_count": 2,
   "id": "53a240e6",
   "metadata": {},
   "outputs": [],
   "source": [
    "embedding_model = \"text-embedding-3-small\"\n",
    "similarity_top_k = 4"
   ]
  },
  {
   "cell_type": "code",
   "execution_count": 3,
   "id": "26595534",
   "metadata": {},
   "outputs": [],
   "source": [
    "engine = create_engine(f\"duckdb:///{\"../data.db\"}\")"
   ]
  },
  {
   "cell_type": "code",
   "execution_count": 4,
   "id": "b34de7a3",
   "metadata": {},
   "outputs": [],
   "source": [
    "# Create documents for each table\n",
    "from llama_index.core import Document\n",
    "# Create an inspector object\n",
    "inspector = inspect(engine)\n",
    "table_names = inspector.get_table_names()\n",
    "# sql_database = SQLDatabase(engine, include_tables=table_names)\n",
    "documents = []\n",
    "for table in table_names:\n",
    "    columns = inspector.get_columns(table)\n",
    "    column_info = [f\"{col['name']} ({col['type']})\" for col in columns]\n",
    "    text = f\"Table: '{table}'. This table containes Columns: {', '.join(column_info)}\"\n",
    "    documents.append(Document(text=text, metadata={\"table_name\": table, \"table_context\":f\"This table has Columns: {column_info}\"}))\n",
    "\n",
    "# Create vector index\n",
    "vector_index = VectorStoreIndex.from_documents(documents, embed_model=OpenAIEmbedding(model=embedding_model))"
   ]
  },
  {
   "cell_type": "code",
   "execution_count": 5,
   "id": "944c3b20",
   "metadata": {},
   "outputs": [],
   "source": [
    "table_retriever = vector_index.as_retriever(similarity_top_k=similarity_top_k)"
   ]
  },
  {
   "cell_type": "code",
   "execution_count": 6,
   "id": "4df82367",
   "metadata": {},
   "outputs": [
    {
     "name": "stdout",
     "output_type": "stream",
     "text": [
      "[NodeWithScore(node=TextNode(id_='697c310a-a117-4378-9ad8-f2200ea12a22', embedding=None, metadata={'table_name': 'product', 'table_context': \"This table has Columns: ['Key (VARCHAR)', 'ParentId (VARCHAR)', 'Name (VARCHAR)', 'Product Line (VARCHAR)']\"}, excluded_embed_metadata_keys=[], excluded_llm_metadata_keys=[], relationships={<NodeRelationship.SOURCE: '1'>: RelatedNodeInfo(node_id='87a2963d-74b0-4f1e-ac36-42018fddbfb7', node_type='4', metadata={'table_name': 'product', 'table_context': \"This table has Columns: ['Key (VARCHAR)', 'ParentId (VARCHAR)', 'Name (VARCHAR)', 'Product Line (VARCHAR)']\"}, hash='3633f9e5bf91cd023d31a61317a3cd52630be6cee0d00051c2714d53b9011b92')}, metadata_template='{key}: {value}', metadata_separator='\\n', text=\"Table: 'product'. This table containes Columns: Key (VARCHAR), ParentId (VARCHAR), Name (VARCHAR), Product Line (VARCHAR)\", mimetype='text/plain', start_char_idx=0, end_char_idx=121, metadata_seperator='\\n', text_template='{metadata_str}\\n\\n{content}'), score=0.48172868452768125), NodeWithScore(node=TextNode(id_='386f4119-3566-46a2-bc8f-820e7a855c5d', embedding=None, metadata={'table_name': 'customer', 'table_context': \"This table has Columns: ['Key (VARCHAR)', 'ParentId (VARCHAR)', 'Name (VARCHAR)', 'Channel (VARCHAR)', 'Channel Parent (VARCHAR)', 'Customer Since (VARCHAR)', 'Industry (VARCHAR)', 'Location (VARCHAR)', 'Sales Manager (VARCHAR)', 'Salesperson (VARCHAR)']\"}, excluded_embed_metadata_keys=[], excluded_llm_metadata_keys=[], relationships={<NodeRelationship.SOURCE: '1'>: RelatedNodeInfo(node_id='e89ae7b1-8c39-440c-9555-9d382783e058', node_type='4', metadata={'table_name': 'customer', 'table_context': \"This table has Columns: ['Key (VARCHAR)', 'ParentId (VARCHAR)', 'Name (VARCHAR)', 'Channel (VARCHAR)', 'Channel Parent (VARCHAR)', 'Customer Since (VARCHAR)', 'Industry (VARCHAR)', 'Location (VARCHAR)', 'Sales Manager (VARCHAR)', 'Salesperson (VARCHAR)']\"}, hash='3746c57ba9842b4603bf544d52f4af22a7dd053c80e4ad8b08a00a187ed62f0a')}, metadata_template='{key}: {value}', metadata_separator='\\n', text=\"Table: 'customer'. This table containes Columns: Key (VARCHAR), ParentId (VARCHAR), Name (VARCHAR), Channel (VARCHAR), Channel Parent (VARCHAR), Customer Since (VARCHAR), Industry (VARCHAR), Location (VARCHAR), Sales Manager (VARCHAR), Salesperson (VARCHAR)\", mimetype='text/plain', start_char_idx=0, end_char_idx=257, metadata_seperator='\\n', text_template='{metadata_str}\\n\\n{content}'), score=0.3492820594313677), NodeWithScore(node=TextNode(id_='b245d2a1-0dc4-4c97-963e-d97ec4d05add', embedding=None, metadata={'table_name': 'account', 'table_context': \"This table has Columns: ['Key (VARCHAR)', 'ParentId (VARCHAR)', 'Name (VARCHAR)', 'UNARY_OPERATOR (VARCHAR)', 'AccountType (VARCHAR)', 'CalculationMethod (VARCHAR)', 'DebitCredit (VARCHAR)', 'LineItemRequired (VARCHAR)', 'NonLeafInput (VARCHAR)', 'NumericFormat (VARCHAR)', 'PreventDataEntry (VARCHAR)', 'TCMethod (VARCHAR)', 'TCFormulaMDX (VARCHAR)', 'ProceduralCalc (VARCHAR)', 'CurrencyConversionMethod (VARCHAR)']\"}, excluded_embed_metadata_keys=[], excluded_llm_metadata_keys=[], relationships={<NodeRelationship.SOURCE: '1'>: RelatedNodeInfo(node_id='a3619ab2-1526-43e4-bab7-7f10d98b7370', node_type='4', metadata={'table_name': 'account', 'table_context': \"This table has Columns: ['Key (VARCHAR)', 'ParentId (VARCHAR)', 'Name (VARCHAR)', 'UNARY_OPERATOR (VARCHAR)', 'AccountType (VARCHAR)', 'CalculationMethod (VARCHAR)', 'DebitCredit (VARCHAR)', 'LineItemRequired (VARCHAR)', 'NonLeafInput (VARCHAR)', 'NumericFormat (VARCHAR)', 'PreventDataEntry (VARCHAR)', 'TCMethod (VARCHAR)', 'TCFormulaMDX (VARCHAR)', 'ProceduralCalc (VARCHAR)', 'CurrencyConversionMethod (VARCHAR)']\"}, hash='2a66486afc431d7f2a658981d7fe3a4c0c8bcf07209fba33e65e954dd4d98e70')}, metadata_template='{key}: {value}', metadata_separator='\\n', text=\"Table: 'account'. This table containes Columns: Key (VARCHAR), ParentId (VARCHAR), Name (VARCHAR), UNARY_OPERATOR (VARCHAR), AccountType (VARCHAR), CalculationMethod (VARCHAR), DebitCredit (VARCHAR), LineItemRequired (VARCHAR), NonLeafInput (VARCHAR), NumericFormat (VARCHAR), PreventDataEntry (VARCHAR), TCMethod (VARCHAR), TCFormulaMDX (VARCHAR), ProceduralCalc (VARCHAR), CurrencyConversionMethod (VARCHAR)\", mimetype='text/plain', start_char_idx=0, end_char_idx=409, metadata_seperator='\\n', text_template='{metadata_str}\\n\\n{content}'), score=0.3364055523860449), NodeWithScore(node=TextNode(id_='e8c41b81-6e17-4219-9e6a-1c66a420d865', embedding=None, metadata={'table_name': 'version', 'table_context': \"This table has Columns: ['Key (VARCHAR)', 'ParentId (VARCHAR)', 'Name (VARCHAR)', 'VersionType (VARCHAR)', 'Status (VARCHAR)', 'RuleSet (VARCHAR)', 'StartPeriod (VARCHAR)', 'EndPeriod (VARCHAR)', 'CarryForward (VARCHAR)', 'CalculationMethod (VARCHAR)', 'ReferenceVersion (VARCHAR)', 'TimeLevel (VARCHAR)']\"}, excluded_embed_metadata_keys=[], excluded_llm_metadata_keys=[], relationships={<NodeRelationship.SOURCE: '1'>: RelatedNodeInfo(node_id='df783cd6-55b8-4487-9c95-4ab7cd1eb23d', node_type='4', metadata={'table_name': 'version', 'table_context': \"This table has Columns: ['Key (VARCHAR)', 'ParentId (VARCHAR)', 'Name (VARCHAR)', 'VersionType (VARCHAR)', 'Status (VARCHAR)', 'RuleSet (VARCHAR)', 'StartPeriod (VARCHAR)', 'EndPeriod (VARCHAR)', 'CarryForward (VARCHAR)', 'CalculationMethod (VARCHAR)', 'ReferenceVersion (VARCHAR)', 'TimeLevel (VARCHAR)']\"}, hash='7dc29fe25ffe8ebe86f394d1063cf135c8ab7e950c3b72724724e96d5c3b56a3')}, metadata_template='{key}: {value}', metadata_separator='\\n', text=\"Table: 'version'. This table containes Columns: Key (VARCHAR), ParentId (VARCHAR), Name (VARCHAR), VersionType (VARCHAR), Status (VARCHAR), RuleSet (VARCHAR), StartPeriod (VARCHAR), EndPeriod (VARCHAR), CarryForward (VARCHAR), CalculationMethod (VARCHAR), ReferenceVersion (VARCHAR), TimeLevel (VARCHAR)\", mimetype='text/plain', start_char_idx=0, end_char_idx=303, metadata_seperator='\\n', text_template='{metadata_str}\\n\\n{content}'), score=0.3257116989133628)]\n"
     ]
    }
   ],
   "source": [
    "tables_retireved = table_retriever.retrieve(\"How many product lines are there in the database?\")\n",
    "print(tables_retireved)"
   ]
  },
  {
   "cell_type": "code",
   "execution_count": 7,
   "id": "5e5cbda7",
   "metadata": {},
   "outputs": [
    {
     "data": {
      "text/plain": [
       "[\"Score=0.48172868452768125\\nTable: 'product'. This table containes Columns: Key (VARCHAR), ParentId (VARCHAR), Name (VARCHAR), Product Line (VARCHAR)\",\n",
       " \"Score=0.3492820594313677\\nTable: 'customer'. This table containes Columns: Key (VARCHAR), ParentId (VARCHAR), Name (VARCHAR), Channel (VARCHAR), Channel Parent (VARCHAR), Customer Since (VARCHAR), Industry (VARCHAR), Location (VARCHAR), Sales Manager (VARCHAR), Salesperson (VARCHAR)\",\n",
       " \"Score=0.3364055523860449\\nTable: 'account'. This table containes Columns: Key (VARCHAR), ParentId (VARCHAR), Name (VARCHAR), UNARY_OPERATOR (VARCHAR), AccountType (VARCHAR), CalculationMethod (VARCHAR), DebitCredit (VARCHAR), LineItemRequired (VARCHAR), NonLeafInput (VARCHAR), NumericFormat (VARCHAR), PreventDataEntry (VARCHAR), TCMethod (VARCHAR), TCFormulaMDX (VARCHAR), ProceduralCalc (VARCHAR), CurrencyConversionMethod (VARCHAR)\",\n",
       " \"Score=0.3257116989133628\\nTable: 'version'. This table containes Columns: Key (VARCHAR), ParentId (VARCHAR), Name (VARCHAR), VersionType (VARCHAR), Status (VARCHAR), RuleSet (VARCHAR), StartPeriod (VARCHAR), EndPeriod (VARCHAR), CarryForward (VARCHAR), CalculationMethod (VARCHAR), ReferenceVersion (VARCHAR), TimeLevel (VARCHAR)\"]"
      ]
     },
     "execution_count": 7,
     "metadata": {},
     "output_type": "execute_result"
    }
   ],
   "source": [
    "[f\"Score={node.score}\\n{node.node.text}\" for node in tables_retireved]"
   ]
  },
  {
   "cell_type": "code",
   "execution_count": 8,
   "id": "81262a85",
   "metadata": {},
   "outputs": [],
   "source": [
    "# Persisting Index Data\n",
    "vector_index.storage_context.persist(\"../index/tables_index\")"
   ]
  },
  {
   "cell_type": "code",
   "execution_count": 9,
   "id": "46f26924",
   "metadata": {},
   "outputs": [
    {
     "name": "stdout",
     "output_type": "stream",
     "text": [
      "Loading llama_index.core.storage.kvstore.simple_kvstore from ../index/tables_index\\docstore.json.\n",
      "Loading llama_index.core.storage.kvstore.simple_kvstore from ../index/tables_index\\index_store.json.\n"
     ]
    }
   ],
   "source": [
    "# When loading\n",
    "storage_context = StorageContext.from_defaults(persist_dir=\"../index/tables_index\")\n",
    "vector_index = load_index_from_storage(storage_context, embed_model=OpenAIEmbedding(model=embedding_model))"
   ]
  },
  {
   "cell_type": "code",
   "execution_count": 10,
   "id": "1ac0c897",
   "metadata": {},
   "outputs": [],
   "source": [
    "table_retriever = vector_index.as_retriever(similarity_top_k=similarity_top_k)"
   ]
  },
  {
   "cell_type": "code",
   "execution_count": 11,
   "id": "52f38d6d",
   "metadata": {},
   "outputs": [
    {
     "name": "stdout",
     "output_type": "stream",
     "text": [
      "[NodeWithScore(node=TextNode(id_='697c310a-a117-4378-9ad8-f2200ea12a22', embedding=None, metadata={'table_name': 'product', 'table_context': \"This table has Columns: ['Key (VARCHAR)', 'ParentId (VARCHAR)', 'Name (VARCHAR)', 'Product Line (VARCHAR)']\"}, excluded_embed_metadata_keys=[], excluded_llm_metadata_keys=[], relationships={<NodeRelationship.SOURCE: '1'>: RelatedNodeInfo(node_id='87a2963d-74b0-4f1e-ac36-42018fddbfb7', node_type='4', metadata={'table_name': 'product', 'table_context': \"This table has Columns: ['Key (VARCHAR)', 'ParentId (VARCHAR)', 'Name (VARCHAR)', 'Product Line (VARCHAR)']\"}, hash='3633f9e5bf91cd023d31a61317a3cd52630be6cee0d00051c2714d53b9011b92')}, metadata_template='{key}: {value}', metadata_separator='\\n', text=\"Table: 'product'. This table containes Columns: Key (VARCHAR), ParentId (VARCHAR), Name (VARCHAR), Product Line (VARCHAR)\", mimetype='text/plain', start_char_idx=0, end_char_idx=121, metadata_seperator='\\n', text_template='{metadata_str}\\n\\n{content}'), score=0.48174056358218065), NodeWithScore(node=TextNode(id_='386f4119-3566-46a2-bc8f-820e7a855c5d', embedding=None, metadata={'table_name': 'customer', 'table_context': \"This table has Columns: ['Key (VARCHAR)', 'ParentId (VARCHAR)', 'Name (VARCHAR)', 'Channel (VARCHAR)', 'Channel Parent (VARCHAR)', 'Customer Since (VARCHAR)', 'Industry (VARCHAR)', 'Location (VARCHAR)', 'Sales Manager (VARCHAR)', 'Salesperson (VARCHAR)']\"}, excluded_embed_metadata_keys=[], excluded_llm_metadata_keys=[], relationships={<NodeRelationship.SOURCE: '1'>: RelatedNodeInfo(node_id='e89ae7b1-8c39-440c-9555-9d382783e058', node_type='4', metadata={'table_name': 'customer', 'table_context': \"This table has Columns: ['Key (VARCHAR)', 'ParentId (VARCHAR)', 'Name (VARCHAR)', 'Channel (VARCHAR)', 'Channel Parent (VARCHAR)', 'Customer Since (VARCHAR)', 'Industry (VARCHAR)', 'Location (VARCHAR)', 'Sales Manager (VARCHAR)', 'Salesperson (VARCHAR)']\"}, hash='3746c57ba9842b4603bf544d52f4af22a7dd053c80e4ad8b08a00a187ed62f0a')}, metadata_template='{key}: {value}', metadata_separator='\\n', text=\"Table: 'customer'. This table containes Columns: Key (VARCHAR), ParentId (VARCHAR), Name (VARCHAR), Channel (VARCHAR), Channel Parent (VARCHAR), Customer Since (VARCHAR), Industry (VARCHAR), Location (VARCHAR), Sales Manager (VARCHAR), Salesperson (VARCHAR)\", mimetype='text/plain', start_char_idx=0, end_char_idx=257, metadata_seperator='\\n', text_template='{metadata_str}\\n\\n{content}'), score=0.3493270837946805), NodeWithScore(node=TextNode(id_='b245d2a1-0dc4-4c97-963e-d97ec4d05add', embedding=None, metadata={'table_name': 'account', 'table_context': \"This table has Columns: ['Key (VARCHAR)', 'ParentId (VARCHAR)', 'Name (VARCHAR)', 'UNARY_OPERATOR (VARCHAR)', 'AccountType (VARCHAR)', 'CalculationMethod (VARCHAR)', 'DebitCredit (VARCHAR)', 'LineItemRequired (VARCHAR)', 'NonLeafInput (VARCHAR)', 'NumericFormat (VARCHAR)', 'PreventDataEntry (VARCHAR)', 'TCMethod (VARCHAR)', 'TCFormulaMDX (VARCHAR)', 'ProceduralCalc (VARCHAR)', 'CurrencyConversionMethod (VARCHAR)']\"}, excluded_embed_metadata_keys=[], excluded_llm_metadata_keys=[], relationships={<NodeRelationship.SOURCE: '1'>: RelatedNodeInfo(node_id='a3619ab2-1526-43e4-bab7-7f10d98b7370', node_type='4', metadata={'table_name': 'account', 'table_context': \"This table has Columns: ['Key (VARCHAR)', 'ParentId (VARCHAR)', 'Name (VARCHAR)', 'UNARY_OPERATOR (VARCHAR)', 'AccountType (VARCHAR)', 'CalculationMethod (VARCHAR)', 'DebitCredit (VARCHAR)', 'LineItemRequired (VARCHAR)', 'NonLeafInput (VARCHAR)', 'NumericFormat (VARCHAR)', 'PreventDataEntry (VARCHAR)', 'TCMethod (VARCHAR)', 'TCFormulaMDX (VARCHAR)', 'ProceduralCalc (VARCHAR)', 'CurrencyConversionMethod (VARCHAR)']\"}, hash='2a66486afc431d7f2a658981d7fe3a4c0c8bcf07209fba33e65e954dd4d98e70')}, metadata_template='{key}: {value}', metadata_separator='\\n', text=\"Table: 'account'. This table containes Columns: Key (VARCHAR), ParentId (VARCHAR), Name (VARCHAR), UNARY_OPERATOR (VARCHAR), AccountType (VARCHAR), CalculationMethod (VARCHAR), DebitCredit (VARCHAR), LineItemRequired (VARCHAR), NonLeafInput (VARCHAR), NumericFormat (VARCHAR), PreventDataEntry (VARCHAR), TCMethod (VARCHAR), TCFormulaMDX (VARCHAR), ProceduralCalc (VARCHAR), CurrencyConversionMethod (VARCHAR)\", mimetype='text/plain', start_char_idx=0, end_char_idx=409, metadata_seperator='\\n', text_template='{metadata_str}\\n\\n{content}'), score=0.3364456668185508), NodeWithScore(node=TextNode(id_='e8c41b81-6e17-4219-9e6a-1c66a420d865', embedding=None, metadata={'table_name': 'version', 'table_context': \"This table has Columns: ['Key (VARCHAR)', 'ParentId (VARCHAR)', 'Name (VARCHAR)', 'VersionType (VARCHAR)', 'Status (VARCHAR)', 'RuleSet (VARCHAR)', 'StartPeriod (VARCHAR)', 'EndPeriod (VARCHAR)', 'CarryForward (VARCHAR)', 'CalculationMethod (VARCHAR)', 'ReferenceVersion (VARCHAR)', 'TimeLevel (VARCHAR)']\"}, excluded_embed_metadata_keys=[], excluded_llm_metadata_keys=[], relationships={<NodeRelationship.SOURCE: '1'>: RelatedNodeInfo(node_id='df783cd6-55b8-4487-9c95-4ab7cd1eb23d', node_type='4', metadata={'table_name': 'version', 'table_context': \"This table has Columns: ['Key (VARCHAR)', 'ParentId (VARCHAR)', 'Name (VARCHAR)', 'VersionType (VARCHAR)', 'Status (VARCHAR)', 'RuleSet (VARCHAR)', 'StartPeriod (VARCHAR)', 'EndPeriod (VARCHAR)', 'CarryForward (VARCHAR)', 'CalculationMethod (VARCHAR)', 'ReferenceVersion (VARCHAR)', 'TimeLevel (VARCHAR)']\"}, hash='7dc29fe25ffe8ebe86f394d1063cf135c8ab7e950c3b72724724e96d5c3b56a3')}, metadata_template='{key}: {value}', metadata_separator='\\n', text=\"Table: 'version'. This table containes Columns: Key (VARCHAR), ParentId (VARCHAR), Name (VARCHAR), VersionType (VARCHAR), Status (VARCHAR), RuleSet (VARCHAR), StartPeriod (VARCHAR), EndPeriod (VARCHAR), CarryForward (VARCHAR), CalculationMethod (VARCHAR), ReferenceVersion (VARCHAR), TimeLevel (VARCHAR)\", mimetype='text/plain', start_char_idx=0, end_char_idx=303, metadata_seperator='\\n', text_template='{metadata_str}\\n\\n{content}'), score=0.325720812688284)]\n"
     ]
    }
   ],
   "source": [
    "tables_retireved = table_retriever.retrieve(\"How many product lines are there in the database?\")\n",
    "print(tables_retireved)"
   ]
  },
  {
   "cell_type": "code",
   "execution_count": 12,
   "id": "b342abb4",
   "metadata": {},
   "outputs": [
    {
     "data": {
      "text/plain": [
       "[\"Score=0.48174056358218065\\nTable: 'product'. This table containes Columns: Key (VARCHAR), ParentId (VARCHAR), Name (VARCHAR), Product Line (VARCHAR)\",\n",
       " \"Score=0.3493270837946805\\nTable: 'customer'. This table containes Columns: Key (VARCHAR), ParentId (VARCHAR), Name (VARCHAR), Channel (VARCHAR), Channel Parent (VARCHAR), Customer Since (VARCHAR), Industry (VARCHAR), Location (VARCHAR), Sales Manager (VARCHAR), Salesperson (VARCHAR)\",\n",
       " \"Score=0.3364456668185508\\nTable: 'account'. This table containes Columns: Key (VARCHAR), ParentId (VARCHAR), Name (VARCHAR), UNARY_OPERATOR (VARCHAR), AccountType (VARCHAR), CalculationMethod (VARCHAR), DebitCredit (VARCHAR), LineItemRequired (VARCHAR), NonLeafInput (VARCHAR), NumericFormat (VARCHAR), PreventDataEntry (VARCHAR), TCMethod (VARCHAR), TCFormulaMDX (VARCHAR), ProceduralCalc (VARCHAR), CurrencyConversionMethod (VARCHAR)\",\n",
       " \"Score=0.325720812688284\\nTable: 'version'. This table containes Columns: Key (VARCHAR), ParentId (VARCHAR), Name (VARCHAR), VersionType (VARCHAR), Status (VARCHAR), RuleSet (VARCHAR), StartPeriod (VARCHAR), EndPeriod (VARCHAR), CarryForward (VARCHAR), CalculationMethod (VARCHAR), ReferenceVersion (VARCHAR), TimeLevel (VARCHAR)\"]"
      ]
     },
     "execution_count": 12,
     "metadata": {},
     "output_type": "execute_result"
    }
   ],
   "source": [
    "[f\"Score={node.score}\\n{node.node.text}\" for node in tables_retireved]"
   ]
  },
  {
   "cell_type": "code",
   "execution_count": 13,
   "id": "7f465f6a",
   "metadata": {},
   "outputs": [
    {
     "name": "stdout",
     "output_type": "stream",
     "text": [
      "customer\n",
      "This table has Columns: ['Key (VARCHAR)', 'ParentId (VARCHAR)', 'Name (VARCHAR)', 'Channel (VARCHAR)', 'Channel Parent (VARCHAR)', 'Customer Since (VARCHAR)', 'Industry (VARCHAR)', 'Location (VARCHAR)', 'Sales Manager (VARCHAR)', 'Salesperson (VARCHAR)']\n"
     ]
    }
   ],
   "source": [
    "print(tables_retireved[1].metadata[\"table_name\"])\n",
    "print(tables_retireved[1].metadata[\"table_context\"])"
   ]
  },
  {
   "cell_type": "code",
   "execution_count": null,
   "id": "e54d4527",
   "metadata": {},
   "outputs": [],
   "source": []
  }
 ],
 "metadata": {
  "kernelspec": {
   "display_name": ".venv",
   "language": "python",
   "name": "python3"
  },
  "language_info": {
   "codemirror_mode": {
    "name": "ipython",
    "version": 3
   },
   "file_extension": ".py",
   "mimetype": "text/x-python",
   "name": "python",
   "nbconvert_exporter": "python",
   "pygments_lexer": "ipython3",
   "version": "3.12.7"
  }
 },
 "nbformat": 4,
 "nbformat_minor": 5
}
